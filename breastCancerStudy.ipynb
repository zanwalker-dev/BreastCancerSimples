{
 "cells": [
  {
   "metadata": {},
   "cell_type": "markdown",
   "source": "# Breast Cancer cases study",
   "id": "8a77807f92f26ee"
  },
  {
   "metadata": {
    "ExecuteTime": {
     "end_time": "2025-05-24T22:28:19.373234Z",
     "start_time": "2025-05-24T22:28:16.863281Z"
    }
   },
   "cell_type": "code",
   "source": "import pandas as pd\n",
   "id": "fbc121e30a2defb3",
   "outputs": [],
   "execution_count": 1
  },
  {
   "metadata": {
    "ExecuteTime": {
     "end_time": "2025-05-24T22:30:01.425300Z",
     "start_time": "2025-05-24T22:30:01.395502Z"
    }
   },
   "cell_type": "code",
   "source": "pd.__version__",
   "id": "18a01f069f483c9e",
   "outputs": [
    {
     "data": {
      "text/plain": [
       "'2.2.3'"
      ]
     },
     "execution_count": 4,
     "metadata": {},
     "output_type": "execute_result"
    }
   ],
   "execution_count": 4
  }
 ],
 "metadata": {
  "kernelspec": {
   "display_name": "Python 3",
   "language": "python",
   "name": "python3"
  },
  "language_info": {
   "codemirror_mode": {
    "name": "ipython",
    "version": 2
   },
   "file_extension": ".py",
   "mimetype": "text/x-python",
   "name": "python",
   "nbconvert_exporter": "python",
   "pygments_lexer": "ipython2",
   "version": "2.7.6"
  }
 },
 "nbformat": 4,
 "nbformat_minor": 5
}
